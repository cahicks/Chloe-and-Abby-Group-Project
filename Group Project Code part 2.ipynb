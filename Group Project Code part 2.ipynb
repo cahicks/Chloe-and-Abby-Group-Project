{
 "cells": [
  {
   "cell_type": "code",
   "execution_count": null,
   "metadata": {
    "collapsed": true
   },
   "outputs": [],
   "source": []
  },
  {
   "cell_type": "code",
   "execution_count": 2,
   "metadata": {},
   "outputs": [
    {
     "name": "stdout",
     "output_type": "stream",
     "text": [
      "['STNAME,CENSUS2010POP', 'Alabama,4779736', 'Alaska,710231', 'Arizona,6392017', 'Arkansas,2915918', 'California,37253956', 'Colorado,5029196', 'Connecticut,3574097', 'Delaware,897934', 'District of Columbia,601723', 'Florida,18801310', 'Georgia,9687653', 'Hawaii,1360301', 'Idaho,1567582', 'Illinois,12830632', 'Indiana,6483802', 'Iowa,3046355', 'Kansas,2853118', 'Kentucky,4339367', 'Louisiana,4533372', 'Maine,1328361', 'Maryland,5773552', 'Massachusetts,6547629', 'Michigan,9883640', 'Minnesota,5303925', 'Mississippi,2967297', 'Missouri,5988927', 'Montana,989415', 'Nebraska,1826341', 'Nevada,2700551', 'New Hampshire,1316470', 'New Jersey,8791894', 'New Mexico,2059179', 'New York,19378102', 'North Carolina,9535483', 'North Dakota,672591', 'Ohio,11536504', 'Oklahoma,3751351', 'Oregon,3831074', 'Pennsylvania,12702379', 'Rhode Island,1052567', 'South Carolina,4625364', 'South Dakota,814180', 'Tennessee,6346105', 'Texas,25145561', 'Utah,2763885', 'Vermont,625741', 'Virginia,8001024', 'Washington,6724540', 'West Virginia,1852994', 'Wisconsin,5686986', 'Wyoming,563626']\n",
      "['STNAME', 'CENSUS2010POP']\n"
     ]
    }
   ],
   "source": [
    "#abby reading in data\n",
    "\n",
    "# what is the filename?\n",
    "filename2 = \"sub-est2016_all2.csv\"\n",
    "\n",
    "# open file and read in lines\n",
    "f2 = open(filename2,'r').read().splitlines()\n",
    "print f2\n",
    "\n",
    "header2 = f2[0].strip().split(',')\n",
    "print header2"
   ]
  },
  {
   "cell_type": "code",
   "execution_count": null,
   "metadata": {
    "collapsed": true
   },
   "outputs": [],
   "source": []
  }
 ],
 "metadata": {
  "kernelspec": {
   "display_name": "Python 2",
   "language": "python",
   "name": "python2"
  },
  "language_info": {
   "codemirror_mode": {
    "name": "ipython",
    "version": 2
   },
   "file_extension": ".py",
   "mimetype": "text/x-python",
   "name": "python",
   "nbconvert_exporter": "python",
   "pygments_lexer": "ipython2",
   "version": "2.7.14"
  }
 },
 "nbformat": 4,
 "nbformat_minor": 2
}
